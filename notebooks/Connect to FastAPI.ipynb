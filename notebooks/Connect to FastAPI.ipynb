{
 "cells": [
  {
   "cell_type": "code",
   "execution_count": 8,
   "id": "1c9e9e06-8917-4eff-8dd2-ef55d1441328",
   "metadata": {},
   "outputs": [],
   "source": [
    "import requests"
   ]
  },
  {
   "cell_type": "code",
   "execution_count": 9,
   "id": "a8f63e2b-d595-41d9-bace-6cf7d1990e8f",
   "metadata": {},
   "outputs": [],
   "source": [
    "url = \"http://localhost:8080/hello-world\""
   ]
  },
  {
   "cell_type": "code",
   "execution_count": 11,
   "id": "3e7fd483-c91c-4324-9fdf-0bd39042cc01",
   "metadata": {},
   "outputs": [
    {
     "name": "stdout",
     "output_type": "stream",
     "text": [
      "{'hello': 'world', 'Debug': True}\n"
     ]
    }
   ],
   "source": [
    "r = requests.get(url)\n",
    "print(r.json())"
   ]
  },
  {
   "cell_type": "code",
   "execution_count": null,
   "id": "2b80d31c-01ec-453b-b659-1153e2d32638",
   "metadata": {},
   "outputs": [],
   "source": []
  }
 ],
 "metadata": {
  "kernelspec": {
   "display_name": "Python 3 (ipykernel)",
   "language": "python",
   "name": "python3"
  },
  "language_info": {
   "codemirror_mode": {
    "name": "ipython",
    "version": 3
   },
   "file_extension": ".py",
   "mimetype": "text/x-python",
   "name": "python",
   "nbconvert_exporter": "python",
   "pygments_lexer": "ipython3",
   "version": "3.11.4"
  }
 },
 "nbformat": 4,
 "nbformat_minor": 5
}
