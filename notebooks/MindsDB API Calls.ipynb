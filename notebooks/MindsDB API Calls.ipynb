{
 "cells": [
  {
   "cell_type": "code",
   "execution_count": 20,
   "id": "ff58e44d-b89a-41ae-a609-fd25249bf319",
   "metadata": {},
   "outputs": [],
   "source": [
    "from env import config\n",
    "import requests"
   ]
  },
  {
   "cell_type": "code",
   "execution_count": 21,
   "id": "6e869c96-e936-4477-bbe3-f41a1a3c8f00",
   "metadata": {},
   "outputs": [],
   "source": [
    "MINDSDB_UN=config(\"MINDSDB_UN\", default=None)# martyna@mindsdb.com\n",
    "MINDSDB_PW=config(\"MINDSDB_PW\", default=None) # xxxxxxxx\n",
    "assert MINDSDB_UN is not None\n",
    "assert MINDSDB_PW is not None\n",
    "\n",
    "\n",
    "MINDSDB_BASE_URL = \"https://cloud.mindsdb.com/api\""
   ]
  },
  {
   "cell_type": "code",
   "execution_count": null,
   "id": "15682cea-3ec4-4030-b48d-3701603d436f",
   "metadata": {},
   "outputs": [],
   "source": []
  },
  {
   "cell_type": "code",
   "execution_count": 22,
   "id": "d56609ce-6509-4afb-9b1d-61e08626a015",
   "metadata": {},
   "outputs": [],
   "source": [
    "def get_mindsdb_session():\n",
    "    session = requests.Session()\n",
    "    session.post('https://cloud.mindsdb.com/cloud/login', json={\n",
    "        'email': MINDSDB_UN,\n",
    "        'password': MINDSDB_PW\n",
    "    })\n",
    "    return session"
   ]
  },
  {
   "cell_type": "code",
   "execution_count": 23,
   "id": "4e6279ce-5836-4801-9aa2-1122d73b43d2",
   "metadata": {},
   "outputs": [],
   "source": [
    "def mindsdb_query(session, sql_query):\n",
    "    endpoint = \"/sql/query\"\n",
    "    url = f\"{MINDSDB_BASE_URL}{endpoint}\"\n",
    "    headers = {\"Content-Type\": \"application/json\"}\n",
    "    return session.post(url, json={\"query\": sql_query}, headers=headers)"
   ]
  },
  {
   "cell_type": "code",
   "execution_count": 53,
   "id": "f587e6b1-a0e4-46b9-a43c-e7d61c8515a7",
   "metadata": {},
   "outputs": [],
   "source": [
    "\n",
    "# ['flightDate',\n",
    "#  'startingAirport',\n",
    "#  'destinationAirport',\n",
    "#  'isBasicEconomy',\n",
    "#  'isRefundable',\n",
    "#  'isNonStop',\n",
    "#  'segmentsAirlineName',\n",
    "#  'totalFare',\n",
    "#  '__mdb_ts_previous_totalFare',\n",
    "#  'select_data_query',\n",
    "#  'when_data',\n",
    "#  'totalFare_original',\n",
    "#  'totalFare_confidence',\n",
    "#  'totalFare_explain',\n",
    "#  'totalFare_anomaly',\n",
    "#  'totalFare_min',\n",
    "#  'totalFare_max',\n",
    " \n",
    "def predict_query(session, \n",
    "        flightDate = \"2022-04-21\", \n",
    "        startingAirport=\"SFO\", \n",
    "        isNonStop=1, \n",
    "        destinationAirport=\"BOS\",\n",
    "        raw_request=False,\n",
    "        ):\n",
    "    sql_query = f\"\"\"\n",
    "    SELECT m.flightDate, m.segmentsAirlineName, m.isNonStop, m.totalFare, m.totalFare_confidence FROM mindsdb.flight_price_predictor AS m\n",
    "    JOIN ai_travel_agent.flight_prices AS t\n",
    "    WHERE t.flightDate = \"{flightDate}\"\n",
    "    AND t.startingAirport = \"{startingAirport}\"\n",
    "    AND t.isNonStop = {isNonStop}\n",
    "    AND t.destinationAirport = \"{destinationAirport}\";\n",
    "    \"\"\"\n",
    "    response = mindsdb_query(session, sql_query)\n",
    "    response.raise_for_status()\n",
    "    if raw_request:\n",
    "        return response\n",
    "    data = response.json()\n",
    "    columns = data.get(\"column_names\")\n",
    "    dataset = data.get('data')\n",
    "    web_ready_data = [dict(zip(columns, row)) for row in dataset]\n",
    "    return web_ready_data\n",
    "        \n",
    "    "
   ]
  },
  {
   "cell_type": "code",
   "execution_count": 25,
   "id": "e82996de-0671-4fde-8d49-bb3512b96ab2",
   "metadata": {},
   "outputs": [],
   "source": [
    "session = get_mindsdb_session()\n",
    "query_response = predict_query(session, \n",
    "        flightDate = \"2022-04-21\", \n",
    "        startingAirport=\"BOS\", \n",
    "        isNonStop=1, \n",
    "        destinationAirport=\"SFO\",\n",
    "        raw_request=False,)\n",
    "session.close()"
   ]
  },
  {
   "cell_type": "code",
   "execution_count": 26,
   "id": "aca4ccc7-eb4a-406e-9d3e-104b176ec237",
   "metadata": {},
   "outputs": [
    {
     "data": {
      "text/plain": [
       "[{'flightDate': '2022-04-21 00:00:00.000000',\n",
       "  'segmentsAirlineName': 'Alaska Airlines',\n",
       "  'isNonStop': 1.0,\n",
       "  'totalFare': 407.60097800046026,\n",
       "  'totalFare_confidence': 0.9991},\n",
       " {'flightDate': '2022-04-21 00:00:00.000000',\n",
       "  'segmentsAirlineName': 'United',\n",
       "  'isNonStop': 1.0,\n",
       "  'totalFare': 437.70167433898956,\n",
       "  'totalFare_confidence': 0.9991},\n",
       " {'flightDate': '2022-04-21 00:00:00.000000',\n",
       "  'segmentsAirlineName': 'JetBlue Airways',\n",
       "  'isNonStop': 1.0,\n",
       "  'totalFare': 636.7351950883466,\n",
       "  'totalFare_confidence': 0.9991},\n",
       " {'flightDate': '2022-04-21 00:00:00.000000',\n",
       "  'segmentsAirlineName': 'American Airlines',\n",
       "  'isNonStop': 1.0,\n",
       "  'totalFare': 601.1875918728093,\n",
       "  'totalFare_confidence': 0.9991},\n",
       " {'flightDate': '2022-04-21 00:00:00.000000',\n",
       "  'segmentsAirlineName': 'Delta',\n",
       "  'isNonStop': 1.0,\n",
       "  'totalFare': 389.00500090014,\n",
       "  'totalFare_confidence': 0.9991}]"
      ]
     },
     "execution_count": 26,
     "metadata": {},
     "output_type": "execute_result"
    }
   ],
   "source": [
    "query_response"
   ]
  },
  {
   "cell_type": "code",
   "execution_count": null,
   "id": "11ab56ca-d5c0-48c8-a103-4957c1631da8",
   "metadata": {},
   "outputs": [],
   "source": []
  },
  {
   "cell_type": "code",
   "execution_count": 54,
   "id": "557be2d0-f4f9-48eb-8c4c-2cfabc70ac86",
   "metadata": {},
   "outputs": [
    {
     "data": {
      "text/plain": [
       "'{\"options\": [{\"flightDate\": \"2022-04-21 00:00:00.000000\", \"segmentsAirlineName\": \"JetBlue Airways\", \"isNonStop\": 1.0, \"totalFare\": 414.99701251022907, \"totalFare_confidence\": 0.9991}, {\"flightDate\": \"2022-04-21 00:00:00.000000\", \"segmentsAirlineName\": \"United\", \"isNonStop\": 1.0, \"totalFare\": 481.75790609878334, \"totalFare_confidence\": 0.9991}, {\"flightDate\": \"2022-04-21 00:00:00.000000\", \"segmentsAirlineName\": \"Delta\", \"isNonStop\": 1.0, \"totalFare\": 423.995500019981, \"totalFare_confidence\": 0.9991}, {\"flightDate\": \"2022-04-21 00:00:00.000000\", \"segmentsAirlineName\": \"American Airlines\", \"isNonStop\": 1.0, \"totalFare\": 439.79413415008287, \"totalFare_confidence\": 0.9991}], \"preferences\": {\"flightDate\": \"2022-04-21\", \"startingAirport\": \"LAX\", \"isNonStop\": 1, \"destinationAirport\": \"JFK\"}}'"
      ]
     },
     "execution_count": 54,
     "metadata": {},
     "output_type": "execute_result"
    }
   ],
   "source": [
    "pref = dict(flightDate = \"2022-04-21\", \n",
    "        startingAirport=\"LAX\", \n",
    "        isNonStop=1, \n",
    "        destinationAirport=\"JFK\",)\n",
    "query_response = predict_query(session, \n",
    "        **pref,)\n",
    "options = query_response\n",
    "rec_context = json.dumps({\"options\": options, \"preferences\": pref})\n",
    "rec_context"
   ]
  },
  {
   "cell_type": "code",
   "execution_count": 61,
   "id": "99de7436-2e0e-452b-9396-f85e08e258a4",
   "metadata": {},
   "outputs": [],
   "source": [
    "rec_sql_query = f\"\"\"SELECT answer\n",
    "FROM ai_travel_agent\n",
    "WHERE question='Respond with JSON only, what is the best flight option?'\n",
    "AND context='{rec_context}';\n",
    "\"\"\""
   ]
  },
  {
   "cell_type": "code",
   "execution_count": 62,
   "id": "bccaa4fc-2733-415b-871b-c857c0af4520",
   "metadata": {},
   "outputs": [],
   "source": [
    "session = get_mindsdb_session()\n",
    "rec_prediction_response = mindsdb_query(session, rec_sql_query)\n",
    "session.close()"
   ]
  },
  {
   "cell_type": "code",
   "execution_count": 63,
   "id": "0faad68e-bb81-4e3b-94f4-4f50897a29ce",
   "metadata": {},
   "outputs": [
    {
     "data": {
      "text/plain": [
       "{'column_names': ['answer'],\n",
       " 'context': {'db': 'mindsdb'},\n",
       " 'data': [['{\\n  \"flightDate\": \"2022-04-21 00:00:00.000000\",\\n  \"segmentsAirlineName\": \"JetBlue Airways\",\\n  \"isNonStop\": 1.0,\\n  \"totalFare\": 414.99701251022907,\\n  \"totalFare_confidence\": 0.9991\\n}']],\n",
       " 'type': 'table'}"
      ]
     },
     "execution_count": 63,
     "metadata": {},
     "output_type": "execute_result"
    }
   ],
   "source": [
    "rec_prediction_response.json()"
   ]
  },
  {
   "cell_type": "code",
   "execution_count": 64,
   "id": "c46441dc-525c-4f09-b7d6-af490c5f3468",
   "metadata": {},
   "outputs": [],
   "source": [
    "def recommended_flight(session, \n",
    "        user_data = {},\n",
    "        forecast_data = [],\n",
    "        question=\"Respond with JSON only, what is the best flight option?\",\n",
    "        raw_request=False,\n",
    "        **kwargs,\n",
    "        ):\n",
    "    context = {\"options\": forecast_data, \"preferences\": user_data}\n",
    "    context_data = json.dumps(context)\n",
    "    sql_query = f\"\"\"SELECT answer\n",
    "    FROM ai_travel_agent\n",
    "    WHERE question='{question}'\n",
    "    AND context='{context_data}';\n",
    "    \"\"\"\n",
    "    response = mindsdb_query(session, sql_query)\n",
    "    response.raise_for_status()\n",
    "    if raw_request:\n",
    "        return response\n",
    "    data = response.json()\n",
    "    dataset = data.get('data')\n",
    "    if dataset is None or data is None:\n",
    "        return []\n",
    "    if isinstance(dataset, list):\n",
    "        sub_dataset = dataset[0]\n",
    "        if isinstance(sub_dataset, list):\n",
    "            return sub_dataset[0]\n",
    "        return sub_dataset\n",
    "    return dataset"
   ]
  },
  {
   "cell_type": "code",
   "execution_count": 66,
   "id": "7ea3697e-91dc-43e2-9c3b-efbe3d0b267e",
   "metadata": {},
   "outputs": [
    {
     "data": {
      "text/plain": [
       "{'flightDate': '2022-04-21 00:00:00.000000',\n",
       " 'segmentsAirlineName': 'JetBlue Airways',\n",
       " 'isNonStop': 1.0,\n",
       " 'totalFare': 414.99701251022907,\n",
       " 'totalFare_confidence': 0.9991}"
      ]
     },
     "execution_count": 66,
     "metadata": {},
     "output_type": "execute_result"
    }
   ],
   "source": [
    "json.loads(recommended_flight(session, user_data = pref,\n",
    "        forecast_data =query_response))"
   ]
  },
  {
   "cell_type": "code",
   "execution_count": 30,
   "id": "f595ede9-0b73-414a-a7a7-fde895a11c5f",
   "metadata": {},
   "outputs": [],
   "source": [
    "# web_ready_data = [dict(zip(columns, row)) for row in dataset]\n",
    "# web_ready_data"
   ]
  },
  {
   "cell_type": "code",
   "execution_count": null,
   "id": "3ee33381-3151-42ce-a7d7-1e12ac693657",
   "metadata": {},
   "outputs": [],
   "source": []
  }
 ],
 "metadata": {
  "kernelspec": {
   "display_name": "Python 3 (ipykernel)",
   "language": "python",
   "name": "python3"
  },
  "language_info": {
   "codemirror_mode": {
    "name": "ipython",
    "version": 3
   },
   "file_extension": ".py",
   "mimetype": "text/x-python",
   "name": "python",
   "nbconvert_exporter": "python",
   "pygments_lexer": "ipython3",
   "version": "3.11.4"
  }
 },
 "nbformat": 4,
 "nbformat_minor": 5
}
