{
 "cells": [
  {
   "cell_type": "code",
   "execution_count": 8,
   "id": "ff58e44d-b89a-41ae-a609-fd25249bf319",
   "metadata": {},
   "outputs": [],
   "source": [
    "from env import config\n",
    "import requests"
   ]
  },
  {
   "cell_type": "code",
   "execution_count": 9,
   "id": "6e869c96-e936-4477-bbe3-f41a1a3c8f00",
   "metadata": {},
   "outputs": [],
   "source": [
    "MINDSDB_UN=config(\"MINDSDB_UN\", default=None)# martyna@mindsdb.com\n",
    "MINDSDB_PW=config(\"MINDSDB_PW\", default=None) # xxxxxxxx\n",
    "assert MINDSDB_UN is not None\n",
    "assert MINDSDB_PW is not None\n",
    "\n",
    "\n",
    "MINDSDB_BASE_URL = \"https://cloud.mindsdb.com/api\""
   ]
  },
  {
   "cell_type": "code",
   "execution_count": 10,
   "id": "15682cea-3ec4-4030-b48d-3701603d436f",
   "metadata": {},
   "outputs": [],
   "source": []
  },
  {
   "cell_type": "code",
   "execution_count": 11,
   "id": "d56609ce-6509-4afb-9b1d-61e08626a015",
   "metadata": {},
   "outputs": [],
   "source": [
    "def get_mindsdb_session():\n",
    "    session = requests.Session()\n",
    "    session.post('https://cloud.mindsdb.com/cloud/login', json={\n",
    "        'email': MINDSDB_UN,\n",
    "        'password': MINDSDB_PW\n",
    "    })\n",
    "    return session"
   ]
  },
  {
   "cell_type": "code",
   "execution_count": 17,
   "id": "4e6279ce-5836-4801-9aa2-1122d73b43d2",
   "metadata": {},
   "outputs": [],
   "source": [
    "def mindsdb_query(session, sql_query):\n",
    "    endpoint = \"/sql/query\"\n",
    "    url = f\"{MINDSDB_BASE_URL}{endpoint}\"\n",
    "    headers = {\"Content-Type\": \"application/json\"}\n",
    "    return session.post(url, json={\"query\": sql_query}, headers=headers)"
   ]
  },
  {
   "cell_type": "code",
   "execution_count": 60,
   "id": "f587e6b1-a0e4-46b9-a43c-e7d61c8515a7",
   "metadata": {},
   "outputs": [],
   "source": [
    "\n",
    "# ['flightDate',\n",
    "#  'startingAirport',\n",
    "#  'destinationAirport',\n",
    "#  'isBasicEconomy',\n",
    "#  'isRefundable',\n",
    "#  'isNonStop',\n",
    "#  'segmentsAirlineName',\n",
    "#  'totalFare',\n",
    "#  '__mdb_ts_previous_totalFare',\n",
    "#  'select_data_query',\n",
    "#  'when_data',\n",
    "#  'totalFare_original',\n",
    "#  'totalFare_confidence',\n",
    "#  'totalFare_explain',\n",
    "#  'totalFare_anomaly',\n",
    "#  'totalFare_min',\n",
    "#  'totalFare_max',\n",
    " \n",
    "def predict_query(session, \n",
    "        flightDate = \"2022-04-21\", \n",
    "        startingAirport=\"SFO\", \n",
    "        isNonStop=1, \n",
    "        destinationAirport=\"BOS\",\n",
    "        raw_request=True,\n",
    "        ):\n",
    "    sql_query = f\"\"\"\n",
    "    SELECT m.flightDate, m.segmentsAirlineName, m.isNonStop, m.totalFare, m.totalFare_confidence FROM mindsdb.flight_price_predictor AS m\n",
    "    JOIN ai_travel_agent.flight_prices AS t\n",
    "    WHERE t.flightDate = \"{flightDate}\"\n",
    "    AND t.startingAirport = \"{startingAirport}\"\n",
    "    AND t.isNonStop = {isNonStop}\n",
    "    AND t.destinationAirport = \"{destinationAirport}\";\n",
    "    \"\"\"\n",
    "    response = mindsdb_query(session, sql_query)\n",
    "    response.raise_for_status()\n",
    "    if raw_request:\n",
    "        return response\n",
    "    data = response.json()\n",
    "    columns = data.get(\"column_names\")\n",
    "    dataset = data.get('data')\n",
    "    web_ready_data = [dict(zip(columns, row)) for row in dataset]\n",
    "    return web_ready_data\n",
    "        \n",
    "    "
   ]
  },
  {
   "cell_type": "code",
   "execution_count": 61,
   "id": "e82996de-0671-4fde-8d49-bb3512b96ab2",
   "metadata": {},
   "outputs": [],
   "source": [
    "session = get_mindsdb_session()\n",
    "query_response = predict_query(session, \n",
    "        flightDate = \"2022-04-21\", \n",
    "        startingAirport=\"BOS\", \n",
    "        isNonStop=1, \n",
    "        destinationAirport=\"SFO\",\n",
    "        raw_request=False,)\n",
    "session.close()"
   ]
  },
  {
   "cell_type": "code",
   "execution_count": 62,
   "id": "aca4ccc7-eb4a-406e-9d3e-104b176ec237",
   "metadata": {},
   "outputs": [
    {
     "data": {
      "text/plain": [
       "[{'flightDate': '2022-04-21 00:00:00.000000',\n",
       "  'segmentsAirlineName': 'United',\n",
       "  'isNonStop': 1.0,\n",
       "  'totalFare': 437.70167433898956,\n",
       "  'totalFare_confidence': 0.9991},\n",
       " {'flightDate': '2022-04-21 00:00:00.000000',\n",
       "  'segmentsAirlineName': 'American Airlines',\n",
       "  'isNonStop': 1.0,\n",
       "  'totalFare': 601.1875918728093,\n",
       "  'totalFare_confidence': 0.9991},\n",
       " {'flightDate': '2022-04-21 00:00:00.000000',\n",
       "  'segmentsAirlineName': 'JetBlue Airways',\n",
       "  'isNonStop': 1.0,\n",
       "  'totalFare': 636.7351950883466,\n",
       "  'totalFare_confidence': 0.9991},\n",
       " {'flightDate': '2022-04-21 00:00:00.000000',\n",
       "  'segmentsAirlineName': 'Alaska Airlines',\n",
       "  'isNonStop': 1.0,\n",
       "  'totalFare': 407.60097800046026,\n",
       "  'totalFare_confidence': 0.9991},\n",
       " {'flightDate': '2022-04-21 00:00:00.000000',\n",
       "  'segmentsAirlineName': 'Delta',\n",
       "  'isNonStop': 1.0,\n",
       "  'totalFare': 389.00500090014,\n",
       "  'totalFare_confidence': 0.9991}]"
      ]
     },
     "execution_count": 62,
     "metadata": {},
     "output_type": "execute_result"
    }
   ],
   "source": [
    "query_response"
   ]
  },
  {
   "cell_type": "code",
   "execution_count": 40,
   "id": "557be2d0-f4f9-48eb-8c4c-2cfabc70ac86",
   "metadata": {},
   "outputs": [
    {
     "data": {
      "text/plain": [
       "['segmentsAirlineName', 'isNonStop', 'totalFare', 'totalFare_confidence']"
      ]
     },
     "execution_count": 40,
     "metadata": {},
     "output_type": "execute_result"
    }
   ],
   "source": [
    "# columns = data.get(\"column_names\")\n",
    "# dataset = data.get('data')\n",
    "# columns"
   ]
  },
  {
   "cell_type": "code",
   "execution_count": 41,
   "id": "bccaa4fc-2733-415b-871b-c857c0af4520",
   "metadata": {},
   "outputs": [
    {
     "data": {
      "text/plain": [
       "[['Alaska Airlines', 1.0, 426.23859268457585, 0.9991],\n",
       " ['JetBlue Airways', 1.0, 354.99898339656704, 0.9991],\n",
       " ['American Airlines', 1.0, 404.39715167400135, 0.9991],\n",
       " ['Delta', 1.0, 352.59628080569775, 0.9991],\n",
       " ['United', 1.0, 347.99920213019533, 0.9991]]"
      ]
     },
     "execution_count": 41,
     "metadata": {},
     "output_type": "execute_result"
    }
   ],
   "source": [
    "# dataset"
   ]
  },
  {
   "cell_type": "code",
   "execution_count": 44,
   "id": "c46441dc-525c-4f09-b7d6-af490c5f3468",
   "metadata": {},
   "outputs": [],
   "source": [
    "# web_ready_data = []\n",
    "# for row in dataset:\n",
    "#     print(row)\n",
    "#     for i, col in enumerate(row):\n",
    "#         print(columns[i], col)"
   ]
  },
  {
   "cell_type": "code",
   "execution_count": 45,
   "id": "f595ede9-0b73-414a-a7a7-fde895a11c5f",
   "metadata": {},
   "outputs": [
    {
     "data": {
      "text/plain": [
       "[{'segmentsAirlineName': 'Alaska Airlines',\n",
       "  'isNonStop': 1.0,\n",
       "  'totalFare': 426.23859268457585,\n",
       "  'totalFare_confidence': 0.9991},\n",
       " {'segmentsAirlineName': 'JetBlue Airways',\n",
       "  'isNonStop': 1.0,\n",
       "  'totalFare': 354.99898339656704,\n",
       "  'totalFare_confidence': 0.9991},\n",
       " {'segmentsAirlineName': 'American Airlines',\n",
       "  'isNonStop': 1.0,\n",
       "  'totalFare': 404.39715167400135,\n",
       "  'totalFare_confidence': 0.9991},\n",
       " {'segmentsAirlineName': 'Delta',\n",
       "  'isNonStop': 1.0,\n",
       "  'totalFare': 352.59628080569775,\n",
       "  'totalFare_confidence': 0.9991},\n",
       " {'segmentsAirlineName': 'United',\n",
       "  'isNonStop': 1.0,\n",
       "  'totalFare': 347.99920213019533,\n",
       "  'totalFare_confidence': 0.9991}]"
      ]
     },
     "execution_count": 45,
     "metadata": {},
     "output_type": "execute_result"
    }
   ],
   "source": [
    "# web_ready_data = [dict(zip(columns, row)) for row in dataset]\n",
    "# web_ready_data"
   ]
  },
  {
   "cell_type": "code",
   "execution_count": null,
   "id": "3ee33381-3151-42ce-a7d7-1e12ac693657",
   "metadata": {},
   "outputs": [],
   "source": []
  }
 ],
 "metadata": {
  "kernelspec": {
   "display_name": "Python 3 (ipykernel)",
   "language": "python",
   "name": "python3"
  },
  "language_info": {
   "codemirror_mode": {
    "name": "ipython",
    "version": 3
   },
   "file_extension": ".py",
   "mimetype": "text/x-python",
   "name": "python",
   "nbconvert_exporter": "python",
   "pygments_lexer": "ipython3",
   "version": "3.11.4"
  }
 },
 "nbformat": 4,
 "nbformat_minor": 5
}
