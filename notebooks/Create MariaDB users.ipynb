{
 "cells": [
  {
   "cell_type": "code",
   "execution_count": null,
   "id": "c4aad7a4-25f5-4c06-b1a2-6c5cfa4d3e46",
   "metadata": {},
   "outputs": [],
   "source": [
    "# get our db url\n",
    "# create db engine via sqlalchemy"
   ]
  },
  {
   "cell_type": "code",
   "execution_count": 1,
   "id": "21b2d7df-9f2b-4005-99b2-47d7bf9a20b4",
   "metadata": {},
   "outputs": [],
   "source": [
    "from getpass import getpass\n",
    "from env import config\n",
    "from sqlalchemy import create_engine, text"
   ]
  },
  {
   "cell_type": "code",
   "execution_count": 2,
   "id": "383aca06-6852-4974-ac2b-870615d963cb",
   "metadata": {},
   "outputs": [
    {
     "data": {
      "text/plain": [
       "True"
      ]
     },
     "execution_count": 2,
     "metadata": {},
     "output_type": "execute_result"
    }
   ],
   "source": [
    "DATABASE_URL = config(\"DATABASE_URL\", cast=str, default=None)\n",
    "DATABASE_URL is not None"
   ]
  },
  {
   "cell_type": "code",
   "execution_count": 3,
   "id": "dfc806ba-1732-4b93-ae13-e8d8acc57159",
   "metadata": {},
   "outputs": [],
   "source": [
    "engine = create_engine(str(DATABASE_URL))"
   ]
  },
  {
   "cell_type": "code",
   "execution_count": null,
   "id": "d496dbc8-f10b-443c-ab61-b19a145b07f3",
   "metadata": {},
   "outputs": [],
   "source": [
    "new_username = \"mindsdb\"\n",
    "new_password = getpass()"
   ]
  },
  {
   "cell_type": "code",
   "execution_count": null,
   "id": "56c66a4e-2082-4cd9-bfb6-1dd904e09eff",
   "metadata": {},
   "outputs": [],
   "source": [
    "dbs = [\"housing_db\", \"ai_travel_prices\"]\n",
    "\n",
    "with engine.connect() as conn:\n",
    "    create_user_sql = f\"CREATE USER '{new_username}'@'%' IDENTIFIED BY '{new_password}';\"\n",
    "    conn.execute(text(create_user_sql))\n",
    "\n",
    "    for db in dbs:\n",
    "        db_sql_perms = f\"GRANT ALL PRIVILEGES on {db}.* TO '{new_username}'@'%';\"\n",
    "        conn.execute(text(db_sql_perms))\n",
    "    db_sql_new_dbs = f\"GRANT CREATE ON *.* to '{new_username}'@'%';\"\n",
    "    conn.execute(text(db_sql_new_dbs))\n",
    "    conn.execute(text(\"FLUSH PRIVILEGES;\"))"
   ]
  },
  {
   "cell_type": "code",
   "execution_count": 4,
   "id": "e47c2fb5-c969-4de6-bab0-917d6fd7a7e4",
   "metadata": {},
   "outputs": [
    {
     "name": "stdout",
     "output_type": "stream",
     "text": [
      "[('ai_travel_prices',), ('housing_db',), ('information_schema',), ('mysql',), ('performance_schema',), ('sys',)]\n"
     ]
    }
   ],
   "source": [
    "with engine.connect() as conn:\n",
    "    results=  conn.execute(text(f\"SHOW DATABASES\"))\n",
    "    print(results.all())"
   ]
  },
  {
   "cell_type": "code",
   "execution_count": null,
   "id": "1331572b-7993-43f7-9e2f-06c07004b524",
   "metadata": {},
   "outputs": [],
   "source": []
  }
 ],
 "metadata": {
  "kernelspec": {
   "display_name": "Python 3 (ipykernel)",
   "language": "python",
   "name": "python3"
  },
  "language_info": {
   "codemirror_mode": {
    "name": "ipython",
    "version": 3
   },
   "file_extension": ".py",
   "mimetype": "text/x-python",
   "name": "python",
   "nbconvert_exporter": "python",
   "pygments_lexer": "ipython3",
   "version": "3.11.4"
  }
 },
 "nbformat": 4,
 "nbformat_minor": 5
}
