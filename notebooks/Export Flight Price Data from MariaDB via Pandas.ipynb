{
 "cells": [
  {
   "cell_type": "code",
   "execution_count": 1,
   "id": "c4aad7a4-25f5-4c06-b1a2-6c5cfa4d3e46",
   "metadata": {},
   "outputs": [],
   "source": [
    "# get our db url\n",
    "# create db engine via sqlalchemy"
   ]
  },
  {
   "cell_type": "code",
   "execution_count": 2,
   "id": "21b2d7df-9f2b-4005-99b2-47d7bf9a20b4",
   "metadata": {},
   "outputs": [],
   "source": [
    "from env import config, BASE_DIR\n",
    "from sqlalchemy import create_engine, text"
   ]
  },
  {
   "cell_type": "code",
   "execution_count": 3,
   "id": "383aca06-6852-4974-ac2b-870615d963cb",
   "metadata": {},
   "outputs": [
    {
     "data": {
      "text/plain": [
       "True"
      ]
     },
     "execution_count": 3,
     "metadata": {},
     "output_type": "execute_result"
    }
   ],
   "source": [
    "DATABASE_URL = config(\"FLIGHT_PRICES_DATABASE_URL\", cast=str, default=None)\n",
    "DATABASE_URL is not None"
   ]
  },
  {
   "cell_type": "code",
   "execution_count": 4,
   "id": "dfc806ba-1732-4b93-ae13-e8d8acc57159",
   "metadata": {},
   "outputs": [],
   "source": [
    "engine = create_engine(str(DATABASE_URL))"
   ]
  },
  {
   "cell_type": "code",
   "execution_count": 5,
   "id": "56c66a4e-2082-4cd9-bfb6-1dd904e09eff",
   "metadata": {},
   "outputs": [
    {
     "data": {
      "text/plain": [
       "True"
      ]
     },
     "execution_count": 5,
     "metadata": {},
     "output_type": "execute_result"
    }
   ],
   "source": [
    "DATASET_DIR = BASE_DIR / \"datasets\"\n",
    "DATASET_DIR.exists()"
   ]
  },
  {
   "cell_type": "code",
   "execution_count": 12,
   "id": "8beff89e-d2a2-416e-8a17-bff333f0881b",
   "metadata": {},
   "outputs": [
    {
     "data": {
      "text/plain": [
       "False"
      ]
     },
     "execution_count": 12,
     "metadata": {},
     "output_type": "execute_result"
    }
   ],
   "source": [
    "SQL_DUMP_CSV = DATASET_DIR / \"sql-dump.csv\"\n",
    "SQL_DUMP_CSV.exists()"
   ]
  },
  {
   "cell_type": "code",
   "execution_count": 13,
   "id": "29df1ab1-5770-4557-8635-45ac712c798b",
   "metadata": {},
   "outputs": [],
   "source": [
    "import pandas as pd # dask"
   ]
  },
  {
   "cell_type": "code",
   "execution_count": 14,
   "id": "6c276805-de50-4bb6-8b56-7f6632a0ccf2",
   "metadata": {},
   "outputs": [],
   "source": [
    "table_name = \"flight_prices\"\n",
    "df = pd.read_sql(table_name, engine, index_col=\"index\")"
   ]
  },
  {
   "cell_type": "code",
   "execution_count": 15,
   "id": "f7edf0a2-879d-41a9-ad75-8b1e76bd6a39",
   "metadata": {
    "scrolled": true
   },
   "outputs": [
    {
     "data": {
      "text/html": [
       "<div>\n",
       "<style scoped>\n",
       "    .dataframe tbody tr th:only-of-type {\n",
       "        vertical-align: middle;\n",
       "    }\n",
       "\n",
       "    .dataframe tbody tr th {\n",
       "        vertical-align: top;\n",
       "    }\n",
       "\n",
       "    .dataframe thead th {\n",
       "        text-align: right;\n",
       "    }\n",
       "</style>\n",
       "<table border=\"1\" class=\"dataframe\">\n",
       "  <thead>\n",
       "    <tr style=\"text-align: right;\">\n",
       "      <th></th>\n",
       "      <th>flightDate</th>\n",
       "      <th>startingAirport</th>\n",
       "      <th>destinationAirport</th>\n",
       "      <th>isBasicEconomy</th>\n",
       "      <th>isRefundable</th>\n",
       "      <th>isNonStop</th>\n",
       "      <th>segmentsAirlineName</th>\n",
       "      <th>totalFare</th>\n",
       "    </tr>\n",
       "    <tr>\n",
       "      <th>index</th>\n",
       "      <th></th>\n",
       "      <th></th>\n",
       "      <th></th>\n",
       "      <th></th>\n",
       "      <th></th>\n",
       "      <th></th>\n",
       "      <th></th>\n",
       "      <th></th>\n",
       "    </tr>\n",
       "  </thead>\n",
       "  <tbody>\n",
       "    <tr>\n",
       "      <th>0</th>\n",
       "      <td>2022-04-17</td>\n",
       "      <td>ATL</td>\n",
       "      <td>BOS</td>\n",
       "      <td>0</td>\n",
       "      <td>0</td>\n",
       "      <td>0</td>\n",
       "      <td>American Airlines||American Airlines</td>\n",
       "      <td>273</td>\n",
       "    </tr>\n",
       "    <tr>\n",
       "      <th>1</th>\n",
       "      <td>2022-04-17</td>\n",
       "      <td>ATL</td>\n",
       "      <td>BOS</td>\n",
       "      <td>0</td>\n",
       "      <td>0</td>\n",
       "      <td>0</td>\n",
       "      <td>Spirit Airlines||Spirit Airlines</td>\n",
       "      <td>301</td>\n",
       "    </tr>\n",
       "    <tr>\n",
       "      <th>2</th>\n",
       "      <td>2022-04-17</td>\n",
       "      <td>ATL</td>\n",
       "      <td>BOS</td>\n",
       "      <td>0</td>\n",
       "      <td>0</td>\n",
       "      <td>0</td>\n",
       "      <td>United||United</td>\n",
       "      <td>352</td>\n",
       "    </tr>\n",
       "    <tr>\n",
       "      <th>3</th>\n",
       "      <td>2022-04-17</td>\n",
       "      <td>ATL</td>\n",
       "      <td>BOS</td>\n",
       "      <td>0</td>\n",
       "      <td>0</td>\n",
       "      <td>1</td>\n",
       "      <td>American Airlines</td>\n",
       "      <td>355</td>\n",
       "    </tr>\n",
       "    <tr>\n",
       "      <th>4</th>\n",
       "      <td>2022-04-17</td>\n",
       "      <td>ATL</td>\n",
       "      <td>BOS</td>\n",
       "      <td>0</td>\n",
       "      <td>0</td>\n",
       "      <td>1</td>\n",
       "      <td>Delta</td>\n",
       "      <td>307</td>\n",
       "    </tr>\n",
       "    <tr>\n",
       "      <th>5</th>\n",
       "      <td>2022-04-17</td>\n",
       "      <td>ATL</td>\n",
       "      <td>BOS</td>\n",
       "      <td>0</td>\n",
       "      <td>0</td>\n",
       "      <td>1</td>\n",
       "      <td>JetBlue Airways</td>\n",
       "      <td>302</td>\n",
       "    </tr>\n",
       "    <tr>\n",
       "      <th>6</th>\n",
       "      <td>2022-04-17</td>\n",
       "      <td>ATL</td>\n",
       "      <td>BOS</td>\n",
       "      <td>1</td>\n",
       "      <td>0</td>\n",
       "      <td>0</td>\n",
       "      <td>United||United</td>\n",
       "      <td>307</td>\n",
       "    </tr>\n",
       "    <tr>\n",
       "      <th>7</th>\n",
       "      <td>2022-04-17</td>\n",
       "      <td>ATL</td>\n",
       "      <td>CLT</td>\n",
       "      <td>0</td>\n",
       "      <td>0</td>\n",
       "      <td>0</td>\n",
       "      <td>American Airlines||American Airlines</td>\n",
       "      <td>492</td>\n",
       "    </tr>\n",
       "    <tr>\n",
       "      <th>8</th>\n",
       "      <td>2022-04-17</td>\n",
       "      <td>ATL</td>\n",
       "      <td>CLT</td>\n",
       "      <td>0</td>\n",
       "      <td>0</td>\n",
       "      <td>0</td>\n",
       "      <td>JetBlue Airways||JetBlue Airways</td>\n",
       "      <td>543</td>\n",
       "    </tr>\n",
       "    <tr>\n",
       "      <th>9</th>\n",
       "      <td>2022-04-17</td>\n",
       "      <td>ATL</td>\n",
       "      <td>CLT</td>\n",
       "      <td>0</td>\n",
       "      <td>0</td>\n",
       "      <td>0</td>\n",
       "      <td>United||United</td>\n",
       "      <td>467</td>\n",
       "    </tr>\n",
       "  </tbody>\n",
       "</table>\n",
       "</div>"
      ],
      "text/plain": [
       "      flightDate startingAirport destinationAirport  isBasicEconomy  \\\n",
       "index                                                                 \n",
       "0     2022-04-17             ATL                BOS               0   \n",
       "1     2022-04-17             ATL                BOS               0   \n",
       "2     2022-04-17             ATL                BOS               0   \n",
       "3     2022-04-17             ATL                BOS               0   \n",
       "4     2022-04-17             ATL                BOS               0   \n",
       "5     2022-04-17             ATL                BOS               0   \n",
       "6     2022-04-17             ATL                BOS               1   \n",
       "7     2022-04-17             ATL                CLT               0   \n",
       "8     2022-04-17             ATL                CLT               0   \n",
       "9     2022-04-17             ATL                CLT               0   \n",
       "\n",
       "       isRefundable  isNonStop                   segmentsAirlineName  \\\n",
       "index                                                                  \n",
       "0                 0          0  American Airlines||American Airlines   \n",
       "1                 0          0      Spirit Airlines||Spirit Airlines   \n",
       "2                 0          0                        United||United   \n",
       "3                 0          1                     American Airlines   \n",
       "4                 0          1                                 Delta   \n",
       "5                 0          1                       JetBlue Airways   \n",
       "6                 0          0                        United||United   \n",
       "7                 0          0  American Airlines||American Airlines   \n",
       "8                 0          0      JetBlue Airways||JetBlue Airways   \n",
       "9                 0          0                        United||United   \n",
       "\n",
       "       totalFare  \n",
       "index             \n",
       "0            273  \n",
       "1            301  \n",
       "2            352  \n",
       "3            355  \n",
       "4            307  \n",
       "5            302  \n",
       "6            307  \n",
       "7            492  \n",
       "8            543  \n",
       "9            467  "
      ]
     },
     "execution_count": 15,
     "metadata": {},
     "output_type": "execute_result"
    }
   ],
   "source": [
    "df.head(n=10)"
   ]
  },
  {
   "cell_type": "code",
   "execution_count": 16,
   "id": "21f53b6b-85f1-4466-b5dd-84ffdeb0fc7e",
   "metadata": {},
   "outputs": [],
   "source": [
    "df.to_csv(SQL_DUMP_CSV, index=False)"
   ]
  },
  {
   "cell_type": "code",
   "execution_count": null,
   "id": "af5c9875-6463-4eaf-940c-20708d86ca86",
   "metadata": {},
   "outputs": [],
   "source": []
  }
 ],
 "metadata": {
  "kernelspec": {
   "display_name": "Python 3 (ipykernel)",
   "language": "python",
   "name": "python3"
  },
  "language_info": {
   "codemirror_mode": {
    "name": "ipython",
    "version": 3
   },
   "file_extension": ".py",
   "mimetype": "text/x-python",
   "name": "python",
   "nbconvert_exporter": "python",
   "pygments_lexer": "ipython3",
   "version": "3.11.4"
  }
 },
 "nbformat": 4,
 "nbformat_minor": 5
}
