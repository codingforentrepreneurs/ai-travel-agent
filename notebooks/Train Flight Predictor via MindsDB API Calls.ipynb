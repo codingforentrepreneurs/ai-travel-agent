{
 "cells": [
  {
   "cell_type": "code",
   "execution_count": 1,
   "id": "ff58e44d-b89a-41ae-a609-fd25249bf319",
   "metadata": {},
   "outputs": [],
   "source": [
    "from env import config\n",
    "import requests"
   ]
  },
  {
   "cell_type": "code",
   "execution_count": 2,
   "id": "6e869c96-e936-4477-bbe3-f41a1a3c8f00",
   "metadata": {},
   "outputs": [],
   "source": [
    "MINDSDB_UN=config(\"MINDSDB_UN\", default=None)# martyna@mindsdb.com\n",
    "MINDSDB_PW=config(\"MINDSDB_PW\", default=None) # xxxxxxxx\n",
    "assert MINDSDB_UN is not None\n",
    "assert MINDSDB_PW is not None\n",
    "\n",
    "\n",
    "MINDSDB_BASE_URL = \"https://cloud.mindsdb.com/api\""
   ]
  },
  {
   "cell_type": "code",
   "execution_count": 3,
   "id": "15682cea-3ec4-4030-b48d-3701603d436f",
   "metadata": {},
   "outputs": [],
   "source": [
    "FLIGHT_PRICE_PREDICTOR_MODEL = config(\"FLIGHT_PRICE_PREDICTOR_MODEL\", default='flight_price_predictor')\n",
    "to_train = \"flight_price_predictor_a\"\n",
    "if FLIGHT_PRICE_PREDICTOR_MODEL == to_train:\n",
    "    to_train = \"flight_price_predictor_b\""
   ]
  },
  {
   "cell_type": "code",
   "execution_count": 4,
   "id": "5e6f0eb5-e851-4db2-a1ec-a49fb416c625",
   "metadata": {},
   "outputs": [
    {
     "name": "stdout",
     "output_type": "stream",
     "text": [
      "Training flight_price_predictor_b\n"
     ]
    }
   ],
   "source": [
    "print(\"Training\", to_train)"
   ]
  },
  {
   "cell_type": "code",
   "execution_count": 5,
   "id": "7dec298b-9110-43e9-8f13-ab61bc128224",
   "metadata": {},
   "outputs": [],
   "source": [
    "sql_command_1 =f\"\"\"DROP MODEL {to_train};\"\"\"\n",
    "\n",
    "sql_command_2 = f\"\"\"\n",
    "CREATE MODEL mindsdb.{to_train}\n",
    "FROM ai_travel_agent (\n",
    "  SELECT * FROM flight_prices\n",
    "  )\n",
    "PREDICT totalFare\n",
    "ORDER BY flightDate\n",
    "GROUP BY startingAirport, destinationAirport, isBasicEconomy, isRefundable, isNonStop, segmentsAirlineName\n",
    "WINDOW 30\n",
    "HORIZON 10;\n",
    "\"\"\"\n",
    "\n",
    "commands_to_run = [sql_command_1, sql_command_2]"
   ]
  },
  {
   "cell_type": "code",
   "execution_count": 6,
   "id": "d56609ce-6509-4afb-9b1d-61e08626a015",
   "metadata": {},
   "outputs": [],
   "source": [
    "def get_mindsdb_session():\n",
    "    session = requests.Session()\n",
    "    session.post('https://cloud.mindsdb.com/cloud/login', json={\n",
    "        'email': MINDSDB_UN,\n",
    "        'password': MINDSDB_PW\n",
    "    })\n",
    "    return session"
   ]
  },
  {
   "cell_type": "code",
   "execution_count": 7,
   "id": "4e6279ce-5836-4801-9aa2-1122d73b43d2",
   "metadata": {},
   "outputs": [],
   "source": [
    "def mindsdb_query(session, sql_query):\n",
    "    endpoint = \"/sql/query\"\n",
    "    url = f\"{MINDSDB_BASE_URL}{endpoint}\"\n",
    "    headers = {\"Content-Type\": \"application/json\"}\n",
    "    return session.post(url, json={\"query\": sql_query}, headers=headers)"
   ]
  },
  {
   "cell_type": "code",
   "execution_count": 8,
   "id": "11ab56ca-d5c0-48c8-a103-4957c1631da8",
   "metadata": {},
   "outputs": [],
   "source": [
    "session = get_mindsdb_session()\n",
    "for cmd in commands_to_run:\n",
    "    mindsdb_query(session, cmd)\n",
    "session.close()"
   ]
  },
  {
   "cell_type": "code",
   "execution_count": 10,
   "id": "3ee33381-3151-42ce-a7d7-1e12ac693657",
   "metadata": {},
   "outputs": [],
   "source": [
    "sql_command_3 = f\"DESCRIBE PREDICTOR mindsdb.{to_train};\"\n",
    "session = get_mindsdb_session()\n",
    "response = mindsdb_query(session, sql_command_3)\n",
    "session.close()"
   ]
  },
  {
   "cell_type": "code",
   "execution_count": 20,
   "id": "daaf1c07-8ebe-4bee-982c-197428252696",
   "metadata": {},
   "outputs": [
    {
     "name": "stdout",
     "output_type": "stream",
     "text": [
      "tables ['info', 'features', 'model', 'jsonai']\n",
      "NAME flight_price_predictor_b\n",
      "ENGINE lightwood\n",
      "PROJECT mindsdb\n",
      "ACTIVE True\n",
      "VERSION 1\n",
      "STATUS training\n",
      "ACCURACY None\n",
      "PREDICT totalFare\n",
      "UPDATE_STATUS up_to_date\n",
      "MINDSDB_VERSION 23.9.3.0\n",
      "ERROR None\n",
      "SELECT_DATA_QUERY SELECT * FROM flight_prices\n",
      "TRAINING_OPTIONS {'target': 'totalFare', 'timeseries_settings': {'is_timeseries': True, 'order_by': 'flightDate', 'horizon': 10, 'window': 30, 'group_by': ['startingAirport', 'destinationAirport', 'isBasicEconomy', 'isRefundable', 'isNonStop', 'segmentsAirlineName']}}\n",
      "TAG None\n"
     ]
    }
   ],
   "source": [
    "response_data = response.json()\n",
    "column_names = response_data['column_names']\n",
    "# print(column_names)\n",
    "dataset = response_data['data'][0]\n",
    "# print(dataset)\n",
    "for i, col in enumerate(column_names):\n",
    "    print(col, dataset[i])"
   ]
  },
  {
   "cell_type": "code",
   "execution_count": null,
   "id": "7bff3486-db6c-4188-a8ee-731403de7383",
   "metadata": {},
   "outputs": [],
   "source": []
  }
 ],
 "metadata": {
  "kernelspec": {
   "display_name": "Python 3 (ipykernel)",
   "language": "python",
   "name": "python3"
  },
  "language_info": {
   "codemirror_mode": {
    "name": "ipython",
    "version": 3
   },
   "file_extension": ".py",
   "mimetype": "text/x-python",
   "name": "python",
   "nbconvert_exporter": "python",
   "pygments_lexer": "ipython3",
   "version": "3.11.4"
  }
 },
 "nbformat": 4,
 "nbformat_minor": 5
}
