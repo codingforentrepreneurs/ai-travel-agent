{
 "cells": [
  {
   "cell_type": "code",
   "execution_count": 4,
   "id": "7f3130cb-7e24-4e7c-a0ec-9fce67f7fd15",
   "metadata": {},
   "outputs": [],
   "source": [
    "from env import config # env.py -> config -> get_config"
   ]
  },
  {
   "cell_type": "code",
   "execution_count": 5,
   "id": "889818e0-dcd2-4920-adce-5e361f401e06",
   "metadata": {},
   "outputs": [],
   "source": [
    "DATABASE_URL = config(\"DATABASE_URL\", default=None)"
   ]
  },
  {
   "cell_type": "code",
   "execution_count": 6,
   "id": "fee39267-a65d-4436-816c-a74670cd22b2",
   "metadata": {},
   "outputs": [
    {
     "data": {
      "text/plain": [
       "True"
      ]
     },
     "execution_count": 6,
     "metadata": {},
     "output_type": "execute_result"
    }
   ],
   "source": [
    "DATABASE_URL is not None"
   ]
  },
  {
   "cell_type": "code",
   "execution_count": null,
   "id": "413fa885-24d1-4258-acfe-d74d6f612466",
   "metadata": {},
   "outputs": [],
   "source": []
  }
 ],
 "metadata": {
  "kernelspec": {
   "display_name": "Python 3 (ipykernel)",
   "language": "python",
   "name": "python3"
  },
  "language_info": {
   "codemirror_mode": {
    "name": "ipython",
    "version": 3
   },
   "file_extension": ".py",
   "mimetype": "text/x-python",
   "name": "python",
   "nbconvert_exporter": "python",
   "pygments_lexer": "ipython3",
   "version": "3.11.4"
  }
 },
 "nbformat": 4,
 "nbformat_minor": 5
}
