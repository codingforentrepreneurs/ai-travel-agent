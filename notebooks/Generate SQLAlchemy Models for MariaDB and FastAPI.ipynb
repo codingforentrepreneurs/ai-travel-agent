{
 "cells": [
  {
   "cell_type": "code",
   "execution_count": 1,
   "id": "c4aad7a4-25f5-4c06-b1a2-6c5cfa4d3e46",
   "metadata": {},
   "outputs": [],
   "source": [
    "# get our db url\n",
    "# create db engine via sqlalchemy"
   ]
  },
  {
   "cell_type": "code",
   "execution_count": 14,
   "id": "21b2d7df-9f2b-4005-99b2-47d7bf9a20b4",
   "metadata": {},
   "outputs": [],
   "source": [
    "from env import config\n",
    "from sqlalchemy import create_engine, Column, BigInteger, Date, Integer, String, Boolean\n",
    "from sqlalchemy.orm import sessionmaker, DeclarativeBase\n",
    "\n",
    "class Base(DeclarativeBase):\n",
    "    pass"
   ]
  },
  {
   "cell_type": "code",
   "execution_count": 15,
   "id": "383aca06-6852-4974-ac2b-870615d963cb",
   "metadata": {},
   "outputs": [
    {
     "data": {
      "text/plain": [
       "True"
      ]
     },
     "execution_count": 15,
     "metadata": {},
     "output_type": "execute_result"
    }
   ],
   "source": [
    "DATABASE_URL = config(\"FLIGHT_PRICES_DATABASE_URL\", cast=str, default=None)\n",
    "DATABASE_URL is not None"
   ]
  },
  {
   "cell_type": "code",
   "execution_count": 16,
   "id": "dfc806ba-1732-4b93-ae13-e8d8acc57159",
   "metadata": {},
   "outputs": [],
   "source": [
    "engine = create_engine(str(DATABASE_URL))"
   ]
  },
  {
   "cell_type": "code",
   "execution_count": 5,
   "id": "1331572b-7993-43f7-9e2f-06c07004b524",
   "metadata": {},
   "outputs": [],
   "source": [
    "# index \n",
    "# flightDate             datetime64[ns]\n",
    "# startingAirport                object\n",
    "# destinationAirport             object\n",
    "# isBasicEconomy                   bool\n",
    "# isRefundable                     bool\n",
    "# isNonStop                        bool\n",
    "# segmentsAirlineName            object\n",
    "# totalFare                       int64"
   ]
  },
  {
   "cell_type": "code",
   "execution_count": null,
   "id": "4e98d415-3621-495e-8720-a6285579ad36",
   "metadata": {},
   "outputs": [],
   "source": []
  },
  {
   "cell_type": "code",
   "execution_count": 17,
   "id": "f6fd9cda-2c61-4214-a4b8-dee6b09ed188",
   "metadata": {},
   "outputs": [],
   "source": [
    "class FlightPrice(Base):\n",
    "    __tablename__ = \"flight_prices\"\n",
    "    __table_args__ = {\"extend_existing\": True}\n",
    "    id = Column(\"index\", BigInteger, primary_key=True)\n",
    "    flightDate = Column(Date)\n",
    "    startingAirport = Column(String)\n",
    "    destinationAirport = Column(String)\n",
    "    isBasicEconomy = Column(Boolean)\n",
    "    isRefundable = Column(Boolean)\n",
    "    isNonStop = Column(Boolean)\n",
    "    segmentsAirlineName = Column(String)\n",
    "    totalFare = Column(Integer)"
   ]
  },
  {
   "cell_type": "code",
   "execution_count": 7,
   "id": "8828c4e0-6b3f-4ccd-9841-fd698c44188f",
   "metadata": {},
   "outputs": [
    {
     "name": "stdout",
     "output_type": "stream",
     "text": [
      "0 2022-04-17 00:00:00\n",
      "1 2022-04-17 00:00:00\n",
      "2 2022-04-17 00:00:00\n",
      "3 2022-04-17 00:00:00\n",
      "4 2022-04-17 00:00:00\n",
      "5 2022-04-17 00:00:00\n",
      "6 2022-04-17 00:00:00\n",
      "7 2022-04-17 00:00:00\n",
      "8 2022-04-17 00:00:00\n",
      "9 2022-04-17 00:00:00\n"
     ]
    }
   ],
   "source": [
    "SessionLocal = sessionmaker(bind=engine)\n",
    "session = SessionLocal()\n",
    "\n",
    "queryset = session.query(FlightPrice).limit(10).all()\n",
    "for row_value in queryset:\n",
    "    print(row_value.id, row_value.flight_date,)\n",
    "\n",
    "session.close()"
   ]
  },
  {
   "cell_type": "code",
   "execution_count": 18,
   "id": "3d836ef2-3853-4918-b61a-51ff9f12af2e",
   "metadata": {},
   "outputs": [],
   "source": [
    "from pydantic import BaseModel\n",
    "from datetime import date\n",
    "\n",
    "class FlightPriceSchema(BaseModel): # pydantic\n",
    "    id: int \n",
    "    flightDate: date\n",
    "    startingAirport: str\n",
    "    destinationAirport: str\n",
    "    isBasicEconomy: bool\n",
    "    isRefundable: bool\n",
    "    isNonStop: bool\n",
    "    segmentsAirlineName: str\n",
    "    totalFare: int\n",
    "\n",
    "    class Config:\n",
    "        from_attributes = True"
   ]
  },
  {
   "cell_type": "code",
   "execution_count": 20,
   "id": "ce939ed2-048c-46f1-89fb-88cfd0714bde",
   "metadata": {},
   "outputs": [
    {
     "name": "stdout",
     "output_type": "stream",
     "text": [
      "{\"id\":0,\"flightDate\":\"2022-04-17\",\"startingAirport\":\"ATL\",\"destinationAirport\":\"BOS\",\"isBasicEconomy\":false,\"isRefundable\":false,\"isNonStop\":false,\"segmentsAirlineName\":\"American Airlines||American Airlines\",\"totalFare\":273} \n",
      "\n",
      "{\"id\":1,\"flightDate\":\"2022-04-17\",\"startingAirport\":\"ATL\",\"destinationAirport\":\"BOS\",\"isBasicEconomy\":false,\"isRefundable\":false,\"isNonStop\":false,\"segmentsAirlineName\":\"Spirit Airlines||Spirit Airlines\",\"totalFare\":301} \n",
      "\n",
      "{\"id\":2,\"flightDate\":\"2022-04-17\",\"startingAirport\":\"ATL\",\"destinationAirport\":\"BOS\",\"isBasicEconomy\":false,\"isRefundable\":false,\"isNonStop\":false,\"segmentsAirlineName\":\"United||United\",\"totalFare\":352} \n",
      "\n",
      "{\"id\":3,\"flightDate\":\"2022-04-17\",\"startingAirport\":\"ATL\",\"destinationAirport\":\"BOS\",\"isBasicEconomy\":false,\"isRefundable\":false,\"isNonStop\":true,\"segmentsAirlineName\":\"American Airlines\",\"totalFare\":355} \n",
      "\n",
      "{\"id\":4,\"flightDate\":\"2022-04-17\",\"startingAirport\":\"ATL\",\"destinationAirport\":\"BOS\",\"isBasicEconomy\":false,\"isRefundable\":false,\"isNonStop\":true,\"segmentsAirlineName\":\"Delta\",\"totalFare\":307} \n",
      "\n",
      "{\"id\":5,\"flightDate\":\"2022-04-17\",\"startingAirport\":\"ATL\",\"destinationAirport\":\"BOS\",\"isBasicEconomy\":false,\"isRefundable\":false,\"isNonStop\":true,\"segmentsAirlineName\":\"JetBlue Airways\",\"totalFare\":302} \n",
      "\n",
      "{\"id\":6,\"flightDate\":\"2022-04-17\",\"startingAirport\":\"ATL\",\"destinationAirport\":\"BOS\",\"isBasicEconomy\":true,\"isRefundable\":false,\"isNonStop\":false,\"segmentsAirlineName\":\"United||United\",\"totalFare\":307} \n",
      "\n",
      "{\"id\":7,\"flightDate\":\"2022-04-17\",\"startingAirport\":\"ATL\",\"destinationAirport\":\"CLT\",\"isBasicEconomy\":false,\"isRefundable\":false,\"isNonStop\":false,\"segmentsAirlineName\":\"American Airlines||American Airlines\",\"totalFare\":492} \n",
      "\n",
      "{\"id\":8,\"flightDate\":\"2022-04-17\",\"startingAirport\":\"ATL\",\"destinationAirport\":\"CLT\",\"isBasicEconomy\":false,\"isRefundable\":false,\"isNonStop\":false,\"segmentsAirlineName\":\"JetBlue Airways||JetBlue Airways\",\"totalFare\":543} \n",
      "\n",
      "{\"id\":9,\"flightDate\":\"2022-04-17\",\"startingAirport\":\"ATL\",\"destinationAirport\":\"CLT\",\"isBasicEconomy\":false,\"isRefundable\":false,\"isNonStop\":false,\"segmentsAirlineName\":\"United||United\",\"totalFare\":467} \n",
      "\n"
     ]
    },
    {
     "name": "stderr",
     "output_type": "stream",
     "text": [
      "/var/folders/kq/g48dx7_936q4zkrtx9f_p7z00000gp/T/ipykernel_6130/505938574.py:6: PydanticDeprecatedSince20: The `from_orm` method is deprecated; set `model_config['from_attributes']=True` and use `model_validate` instead. Deprecated in Pydantic V2.0 to be removed in V3.0. See Pydantic V2 Migration Guide at https://errors.pydantic.dev/2.3/migration/\n",
      "  data = FlightPriceSchema.from_orm(row_value)\n",
      "/var/folders/kq/g48dx7_936q4zkrtx9f_p7z00000gp/T/ipykernel_6130/505938574.py:7: PydanticDeprecatedSince20: The `json` method is deprecated; use `model_dump_json` instead. Deprecated in Pydantic V2.0 to be removed in V3.0. See Pydantic V2 Migration Guide at https://errors.pydantic.dev/2.3/migration/\n",
      "  print(data.json(), '\\n')\n"
     ]
    }
   ],
   "source": [
    "SessionLocal = sessionmaker(bind=engine)\n",
    "session = SessionLocal()\n",
    "\n",
    "queryset = session.query(FlightPrice).limit(10).all()\n",
    "for row_value in queryset:\n",
    "    data = FlightPriceSchema.from_orm(row_value)\n",
    "    print(data.json(), '\\n')\n",
    "\n",
    "session.close()"
   ]
  },
  {
   "cell_type": "code",
   "execution_count": null,
   "id": "eeb9fa7a-a141-40bc-a085-0a8cffb0eecb",
   "metadata": {},
   "outputs": [],
   "source": []
  }
 ],
 "metadata": {
  "kernelspec": {
   "display_name": "Python 3 (ipykernel)",
   "language": "python",
   "name": "python3"
  },
  "language_info": {
   "codemirror_mode": {
    "name": "ipython",
    "version": 3
   },
   "file_extension": ".py",
   "mimetype": "text/x-python",
   "name": "python",
   "nbconvert_exporter": "python",
   "pygments_lexer": "ipython3",
   "version": "3.11.4"
  }
 },
 "nbformat": 4,
 "nbformat_minor": 5
}
