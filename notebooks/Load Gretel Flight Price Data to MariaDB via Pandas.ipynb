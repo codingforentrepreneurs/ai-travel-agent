{
 "cells": [
  {
   "cell_type": "code",
   "execution_count": 1,
   "id": "c4aad7a4-25f5-4c06-b1a2-6c5cfa4d3e46",
   "metadata": {},
   "outputs": [],
   "source": [
    "# get our db url\n",
    "# create db engine via sqlalchemy"
   ]
  },
  {
   "cell_type": "code",
   "execution_count": 2,
   "id": "21b2d7df-9f2b-4005-99b2-47d7bf9a20b4",
   "metadata": {},
   "outputs": [],
   "source": [
    "from env import config, BASE_DIR\n",
    "from sqlalchemy import create_engine, text"
   ]
  },
  {
   "cell_type": "code",
   "execution_count": 3,
   "id": "29df1ab1-5770-4557-8635-45ac712c798b",
   "metadata": {},
   "outputs": [],
   "source": [
    "import gzip\n",
    "import pandas as pd # dask"
   ]
  },
  {
   "cell_type": "code",
   "execution_count": 4,
   "id": "383aca06-6852-4974-ac2b-870615d963cb",
   "metadata": {},
   "outputs": [
    {
     "data": {
      "text/plain": [
       "True"
      ]
     },
     "execution_count": 4,
     "metadata": {},
     "output_type": "execute_result"
    }
   ],
   "source": [
    "DATABASE_URL = config(\"FLIGHT_PRICES_DATABASE_URL\", cast=str, default=None)\n",
    "DATABASE_URL is not None"
   ]
  },
  {
   "cell_type": "code",
   "execution_count": 5,
   "id": "dfc806ba-1732-4b93-ae13-e8d8acc57159",
   "metadata": {},
   "outputs": [],
   "source": [
    "engine = create_engine(str(DATABASE_URL))"
   ]
  },
  {
   "cell_type": "code",
   "execution_count": 6,
   "id": "56c66a4e-2082-4cd9-bfb6-1dd904e09eff",
   "metadata": {},
   "outputs": [
    {
     "data": {
      "text/plain": [
       "True"
      ]
     },
     "execution_count": 6,
     "metadata": {},
     "output_type": "execute_result"
    }
   ],
   "source": [
    "DATASET_DIR = BASE_DIR / \"datasets\"\n",
    "DATASET_DIR.exists()"
   ]
  },
  {
   "cell_type": "code",
   "execution_count": 7,
   "id": "8beff89e-d2a2-416e-8a17-bff333f0881b",
   "metadata": {},
   "outputs": [
    {
     "data": {
      "text/plain": [
       "True"
      ]
     },
     "execution_count": 7,
     "metadata": {},
     "output_type": "execute_result"
    }
   ],
   "source": [
    "GRETEL_DIR = DATASET_DIR / \"gretel\"\n",
    "GRETEL_DIR.exists()"
   ]
  },
  {
   "cell_type": "code",
   "execution_count": 8,
   "id": "f7edf0a2-879d-41a9-ad75-8b1e76bd6a39",
   "metadata": {
    "scrolled": true
   },
   "outputs": [
    {
     "data": {
      "text/html": [
       "<div>\n",
       "<style scoped>\n",
       "    .dataframe tbody tr th:only-of-type {\n",
       "        vertical-align: middle;\n",
       "    }\n",
       "\n",
       "    .dataframe tbody tr th {\n",
       "        vertical-align: top;\n",
       "    }\n",
       "\n",
       "    .dataframe thead th {\n",
       "        text-align: right;\n",
       "    }\n",
       "</style>\n",
       "<table border=\"1\" class=\"dataframe\">\n",
       "  <thead>\n",
       "    <tr style=\"text-align: right;\">\n",
       "      <th></th>\n",
       "      <th>flightDate</th>\n",
       "      <th>startingAirport</th>\n",
       "      <th>destinationAirport</th>\n",
       "      <th>isBasicEconomy</th>\n",
       "      <th>isRefundable</th>\n",
       "      <th>isNonStop</th>\n",
       "      <th>segmentsAirlineName</th>\n",
       "      <th>totalFare</th>\n",
       "    </tr>\n",
       "    <tr>\n",
       "      <th>index</th>\n",
       "      <th></th>\n",
       "      <th></th>\n",
       "      <th></th>\n",
       "      <th></th>\n",
       "      <th></th>\n",
       "      <th></th>\n",
       "      <th></th>\n",
       "      <th></th>\n",
       "    </tr>\n",
       "  </thead>\n",
       "  <tbody>\n",
       "    <tr>\n",
       "      <th>9591</th>\n",
       "      <td>2022-04-22</td>\n",
       "      <td>IAD</td>\n",
       "      <td>LAX</td>\n",
       "      <td>1</td>\n",
       "      <td>0</td>\n",
       "      <td>1</td>\n",
       "      <td>United</td>\n",
       "      <td>221</td>\n",
       "    </tr>\n",
       "  </tbody>\n",
       "</table>\n",
       "</div>"
      ],
      "text/plain": [
       "      flightDate startingAirport destinationAirport  isBasicEconomy  \\\n",
       "index                                                                 \n",
       "9591  2022-04-22             IAD                LAX               1   \n",
       "\n",
       "       isRefundable  isNonStop segmentsAirlineName  totalFare  \n",
       "index                                                          \n",
       "9591              0          1              United        221  "
      ]
     },
     "execution_count": 8,
     "metadata": {},
     "output_type": "execute_result"
    }
   ],
   "source": [
    "table_name = \"flight_prices\"\n",
    "df = pd.read_sql(table_name, engine, index_col=\"index\")\n",
    "df.tail(n=1)\n",
    "# out_df.to_sql(table_name, engine, if_exists='replace', index=True)"
   ]
  },
  {
   "cell_type": "code",
   "execution_count": 9,
   "id": "89fd6a7d-1b92-4493-b8f8-da7f99d024c5",
   "metadata": {},
   "outputs": [
    {
     "data": {
      "text/plain": [
       "9591"
      ]
     },
     "execution_count": 9,
     "metadata": {},
     "output_type": "execute_result"
    }
   ],
   "source": [
    "last_row = df.tail(n=1)\n",
    "last_idx = last_row.index[0]\n",
    "last_idx"
   ]
  },
  {
   "cell_type": "code",
   "execution_count": 10,
   "id": "9ace95bf-a4ee-49a5-b0be-58b6975605c3",
   "metadata": {},
   "outputs": [
    {
     "data": {
      "text/plain": [
       "Timestamp('2022-04-22 00:00:00')"
      ]
     },
     "execution_count": 10,
     "metadata": {},
     "output_type": "execute_result"
    }
   ],
   "source": [
    "max_flight_date = df.flightDate.max() # .date()\n",
    "max_flight_date"
   ]
  },
  {
   "cell_type": "code",
   "execution_count": 11,
   "id": "21f53b6b-85f1-4466-b5dd-84ffdeb0fc7e",
   "metadata": {},
   "outputs": [],
   "source": [
    "# list(GRETEL_DIR.glob(\"*.gz\"))"
   ]
  },
  {
   "cell_type": "code",
   "execution_count": 36,
   "id": "b7cd5d5e-5efe-4d77-a8a3-0c81364b890b",
   "metadata": {},
   "outputs": [],
   "source": [
    "import datetime"
   ]
  },
  {
   "cell_type": "code",
   "execution_count": 41,
   "id": "34ba4fcb-17ec-42b9-aa18-1ff1d9dd8b7d",
   "metadata": {},
   "outputs": [
    {
     "data": {
      "text/html": [
       "<div>\n",
       "<style scoped>\n",
       "    .dataframe tbody tr th:only-of-type {\n",
       "        vertical-align: middle;\n",
       "    }\n",
       "\n",
       "    .dataframe tbody tr th {\n",
       "        vertical-align: top;\n",
       "    }\n",
       "\n",
       "    .dataframe thead th {\n",
       "        text-align: right;\n",
       "    }\n",
       "</style>\n",
       "<table border=\"1\" class=\"dataframe\">\n",
       "  <thead>\n",
       "    <tr style=\"text-align: right;\">\n",
       "      <th></th>\n",
       "      <th>flightDate</th>\n",
       "      <th>startingAirport</th>\n",
       "      <th>destinationAirport</th>\n",
       "      <th>isBasicEconomy</th>\n",
       "      <th>isRefundable</th>\n",
       "      <th>isNonStop</th>\n",
       "      <th>segmentsAirlineName</th>\n",
       "      <th>totalFare</th>\n",
       "    </tr>\n",
       "  </thead>\n",
       "  <tbody>\n",
       "    <tr>\n",
       "      <th>9592</th>\n",
       "      <td>2022-04-27</td>\n",
       "      <td>SFO</td>\n",
       "      <td>JFK</td>\n",
       "      <td>0</td>\n",
       "      <td>0</td>\n",
       "      <td>1</td>\n",
       "      <td>United</td>\n",
       "      <td>362</td>\n",
       "    </tr>\n",
       "    <tr>\n",
       "      <th>9593</th>\n",
       "      <td>2022-04-24</td>\n",
       "      <td>LAX</td>\n",
       "      <td>ORD</td>\n",
       "      <td>0</td>\n",
       "      <td>0</td>\n",
       "      <td>0</td>\n",
       "      <td>Delta||Delta</td>\n",
       "      <td>181</td>\n",
       "    </tr>\n",
       "    <tr>\n",
       "      <th>9594</th>\n",
       "      <td>2022-04-28</td>\n",
       "      <td>ORD</td>\n",
       "      <td>OAK</td>\n",
       "      <td>0</td>\n",
       "      <td>0</td>\n",
       "      <td>0</td>\n",
       "      <td>Spirit Airlines||Spirit Airlines</td>\n",
       "      <td>421</td>\n",
       "    </tr>\n",
       "    <tr>\n",
       "      <th>9595</th>\n",
       "      <td>2022-04-25</td>\n",
       "      <td>SFO</td>\n",
       "      <td>IAD</td>\n",
       "      <td>0</td>\n",
       "      <td>0</td>\n",
       "      <td>1</td>\n",
       "      <td>American Airlines</td>\n",
       "      <td>241</td>\n",
       "    </tr>\n",
       "    <tr>\n",
       "      <th>9596</th>\n",
       "      <td>2022-04-27</td>\n",
       "      <td>SFO</td>\n",
       "      <td>EWR</td>\n",
       "      <td>0</td>\n",
       "      <td>0</td>\n",
       "      <td>1</td>\n",
       "      <td>JetBlue Airways</td>\n",
       "      <td>261</td>\n",
       "    </tr>\n",
       "  </tbody>\n",
       "</table>\n",
       "</div>"
      ],
      "text/plain": [
       "     flightDate startingAirport destinationAirport  isBasicEconomy  \\\n",
       "9592 2022-04-27             SFO                JFK               0   \n",
       "9593 2022-04-24             LAX                ORD               0   \n",
       "9594 2022-04-28             ORD                OAK               0   \n",
       "9595 2022-04-25             SFO                IAD               0   \n",
       "9596 2022-04-27             SFO                EWR               0   \n",
       "\n",
       "      isRefundable  isNonStop               segmentsAirlineName  totalFare  \n",
       "9592             0          1                            United        362  \n",
       "9593             0          0                      Delta||Delta        181  \n",
       "9594             0          0  Spirit Airlines||Spirit Airlines        421  \n",
       "9595             0          1                 American Airlines        241  \n",
       "9596             0          1                   JetBlue Airways        261  "
      ]
     },
     "execution_count": 41,
     "metadata": {},
     "output_type": "execute_result"
    }
   ],
   "source": [
    "gretel_dfs = []\n",
    "for path in GRETEL_DIR.glob(\"*.gz\"):\n",
    "    with gzip.open(path) as f:\n",
    "        gretel_dfs.append(pd.read_csv(f))\n",
    "new_df = pd.concat(gretel_dfs)\n",
    "new_df.index = new_df.index + last_idx + 1 \n",
    "new_df['flightDate'] = pd.to_datetime(new_df['flightDate'])\n",
    "new_df['flightDate'] = new_df['flightDate'].apply(lambda x: max_flight_date + (max_flight_date - x) + datetime.timedelta(days=1))\n",
    "# del new_df['totalFare']\n",
    "new_df.head()"
   ]
  },
  {
   "cell_type": "code",
   "execution_count": 42,
   "id": "7049c3c3-2bd3-451a-9fdf-9b41748c6980",
   "metadata": {},
   "outputs": [
    {
     "data": {
      "text/plain": [
       "datetime.date(2022, 4, 28)"
      ]
     },
     "execution_count": 42,
     "metadata": {},
     "output_type": "execute_result"
    }
   ],
   "source": [
    "new_df.flightDate.max().date()"
   ]
  },
  {
   "cell_type": "code",
   "execution_count": 46,
   "id": "c3ad923d-2c12-4f31-ad4d-73ed08905793",
   "metadata": {},
   "outputs": [
    {
     "data": {
      "text/plain": [
       "10000"
      ]
     },
     "execution_count": 46,
     "metadata": {},
     "output_type": "execute_result"
    }
   ],
   "source": [
    "new_df.to_sql(table_name, engine, if_exists='append', index=True)"
   ]
  },
  {
   "cell_type": "code",
   "execution_count": 49,
   "id": "96a5c378-b805-4d40-9d02-1fd4b14ed027",
   "metadata": {},
   "outputs": [
    {
     "data": {
      "text/html": [
       "<div>\n",
       "<style scoped>\n",
       "    .dataframe tbody tr th:only-of-type {\n",
       "        vertical-align: middle;\n",
       "    }\n",
       "\n",
       "    .dataframe tbody tr th {\n",
       "        vertical-align: top;\n",
       "    }\n",
       "\n",
       "    .dataframe thead th {\n",
       "        text-align: right;\n",
       "    }\n",
       "</style>\n",
       "<table border=\"1\" class=\"dataframe\">\n",
       "  <thead>\n",
       "    <tr style=\"text-align: right;\">\n",
       "      <th></th>\n",
       "      <th>flightDate</th>\n",
       "      <th>startingAirport</th>\n",
       "      <th>destinationAirport</th>\n",
       "      <th>isBasicEconomy</th>\n",
       "      <th>isRefundable</th>\n",
       "      <th>isNonStop</th>\n",
       "      <th>segmentsAirlineName</th>\n",
       "      <th>totalFare</th>\n",
       "    </tr>\n",
       "    <tr>\n",
       "      <th>index</th>\n",
       "      <th></th>\n",
       "      <th></th>\n",
       "      <th></th>\n",
       "      <th></th>\n",
       "      <th></th>\n",
       "      <th></th>\n",
       "      <th></th>\n",
       "      <th></th>\n",
       "    </tr>\n",
       "  </thead>\n",
       "  <tbody>\n",
       "    <tr>\n",
       "      <th>0</th>\n",
       "      <td>2022-04-17</td>\n",
       "      <td>ATL</td>\n",
       "      <td>BOS</td>\n",
       "      <td>0</td>\n",
       "      <td>0</td>\n",
       "      <td>0</td>\n",
       "      <td>American Airlines||American Airlines</td>\n",
       "      <td>273</td>\n",
       "    </tr>\n",
       "    <tr>\n",
       "      <th>1</th>\n",
       "      <td>2022-04-17</td>\n",
       "      <td>ATL</td>\n",
       "      <td>BOS</td>\n",
       "      <td>0</td>\n",
       "      <td>0</td>\n",
       "      <td>0</td>\n",
       "      <td>Spirit Airlines||Spirit Airlines</td>\n",
       "      <td>301</td>\n",
       "    </tr>\n",
       "    <tr>\n",
       "      <th>2</th>\n",
       "      <td>2022-04-17</td>\n",
       "      <td>ATL</td>\n",
       "      <td>BOS</td>\n",
       "      <td>0</td>\n",
       "      <td>0</td>\n",
       "      <td>0</td>\n",
       "      <td>United||United</td>\n",
       "      <td>352</td>\n",
       "    </tr>\n",
       "    <tr>\n",
       "      <th>3</th>\n",
       "      <td>2022-04-17</td>\n",
       "      <td>ATL</td>\n",
       "      <td>BOS</td>\n",
       "      <td>0</td>\n",
       "      <td>0</td>\n",
       "      <td>1</td>\n",
       "      <td>American Airlines</td>\n",
       "      <td>355</td>\n",
       "    </tr>\n",
       "    <tr>\n",
       "      <th>4</th>\n",
       "      <td>2022-04-17</td>\n",
       "      <td>ATL</td>\n",
       "      <td>BOS</td>\n",
       "      <td>0</td>\n",
       "      <td>0</td>\n",
       "      <td>1</td>\n",
       "      <td>Delta</td>\n",
       "      <td>307</td>\n",
       "    </tr>\n",
       "  </tbody>\n",
       "</table>\n",
       "</div>"
      ],
      "text/plain": [
       "      flightDate startingAirport destinationAirport  isBasicEconomy  \\\n",
       "index                                                                 \n",
       "0     2022-04-17             ATL                BOS               0   \n",
       "1     2022-04-17             ATL                BOS               0   \n",
       "2     2022-04-17             ATL                BOS               0   \n",
       "3     2022-04-17             ATL                BOS               0   \n",
       "4     2022-04-17             ATL                BOS               0   \n",
       "\n",
       "       isRefundable  isNonStop                   segmentsAirlineName  \\\n",
       "index                                                                  \n",
       "0                 0          0  American Airlines||American Airlines   \n",
       "1                 0          0      Spirit Airlines||Spirit Airlines   \n",
       "2                 0          0                        United||United   \n",
       "3                 0          1                     American Airlines   \n",
       "4                 0          1                                 Delta   \n",
       "\n",
       "       totalFare  \n",
       "index             \n",
       "0            273  \n",
       "1            301  \n",
       "2            352  \n",
       "3            355  \n",
       "4            307  "
      ]
     },
     "execution_count": 49,
     "metadata": {},
     "output_type": "execute_result"
    }
   ],
   "source": [
    "df = pd.read_sql(table_name, engine, index_col=\"index\")\n",
    "df.head()"
   ]
  },
  {
   "cell_type": "code",
   "execution_count": null,
   "id": "adac0c95-d8ef-4518-95ef-8fe65b7fd3e5",
   "metadata": {},
   "outputs": [],
   "source": []
  },
  {
   "cell_type": "code",
   "execution_count": null,
   "id": "77fa7230-f2e9-4edd-8d24-c856e2222cd2",
   "metadata": {},
   "outputs": [],
   "source": []
  }
 ],
 "metadata": {
  "kernelspec": {
   "display_name": "Python 3 (ipykernel)",
   "language": "python",
   "name": "python3"
  },
  "language_info": {
   "codemirror_mode": {
    "name": "ipython",
    "version": 3
   },
   "file_extension": ".py",
   "mimetype": "text/x-python",
   "name": "python",
   "nbconvert_exporter": "python",
   "pygments_lexer": "ipython3",
   "version": "3.11.4"
  }
 },
 "nbformat": 4,
 "nbformat_minor": 5
}
